{
 "cells": [
  {
   "cell_type": "markdown",
   "id": "7687bcc9",
   "metadata": {},
   "source": [
    "# Question 1"
   ]
  },
  {
   "cell_type": "markdown",
   "id": "ad1af3ed",
   "metadata": {},
   "source": [
    "What value is displayed when the last expression (a) is evaluated? Explain your\n",
    "answer by indicating what happens in every executed statement"
   ]
  },
  {
   "cell_type": "code",
   "execution_count": 1,
   "id": "83c7639a",
   "metadata": {},
   "outputs": [
    {
     "name": "stdout",
     "output_type": "stream",
     "text": [
      "2\n",
      "4\n",
      "6\n",
      "6\n"
     ]
    }
   ],
   "source": [
    "a=0        \n",
    "def b():   \n",
    "    global a   # a is called Global\n",
    "    a = cat(a)\n",
    "    print(a)\n",
    "        \n",
    "def cat(a):   \n",
    "    return a + 2\n",
    "\n",
    "b()\n",
    "b()\n",
    "b()\n",
    "print(a)"
   ]
  },
  {
   "cell_type": "markdown",
   "id": "c00c9e76",
   "metadata": {},
   "source": [
    "The value of a is increased everytime when everytime c() is called. Whwn each time b() is called, function c() returns 'a+2'. So when b() is called 3 times we will get [(0+2=2, 2+2=4, 4+2=6)]."
   ]
  },
  {
   "cell_type": "markdown",
   "id": "edeaf7dc",
   "metadata": {},
   "source": [
    "# Question 2"
   ]
  },
  {
   "cell_type": "markdown",
   "id": "4ae3a2a8",
   "metadata": {},
   "source": [
    "Function fileLength(), given to you, takes the name of a file as input and returns the length of the file: >>> fileLength('midterm.py') 284 >>> fileLength('idterm.py') Traceback (most recent call last): File \"<pyshell#34>\", line 1, in <module> fileLength('idterm.py') File \"/Users/me/midterm.py\", line 3, in fileLength infile = open(filename) FileNotFoundError: [Errno 2] No such file or directory: 'idterm.py'\n",
    "As shown above, if the file cannot be found by the interpreter or if it cannot be read as a text file, an exception will be raised. Modify function fileLength() so that a friendly message is printed instead: >>> fileLength('midterm.py') 358 >>> fileLength('idterm.py') File idterm.py not found."
   ]
  },
  {
   "cell_type": "code",
   "execution_count": 2,
   "id": "b0f40db4",
   "metadata": {},
   "outputs": [
    {
     "name": "stdout",
     "output_type": "stream",
     "text": [
      "123\n",
      "file ilelength.txt not found.\n"
     ]
    }
   ],
   "source": [
    "def file_length(file_name):\n",
    "    try:\n",
    "        file = open(file_name)\n",
    "        contents = file.read()\n",
    "        file.close()\n",
    "        print(len(contents))\n",
    "        \n",
    "    except FileNotFoundError:\n",
    "        print(\"file \"+file_name+\" not found.\")\n",
    "        \n",
    "file_length(\"Filelength.txt\")\n",
    "file_length(\"ilelength.txt\")"
   ]
  },
  {
   "cell_type": "markdown",
   "id": "b2f3a526",
   "metadata": {},
   "source": [
    "# Question 3"
   ]
  },
  {
   "cell_type": "markdown",
   "id": "86facc5d",
   "metadata": {},
   "source": [
    "Write a class named Marsupial that can be used as shown below:\n"
   ]
  },
  {
   "cell_type": "markdown",
   "id": "4eabf038",
   "metadata": {},
   "source": [
    "m = Marsupial()\n",
    "\n",
    "m.put_in_pouch('doll')\n",
    "\n",
    "m.put_in_pouch('firetruck')\n",
    "\n",
    "m.put_in_pouch('kitten')\n",
    "\n",
    "m.pouch_contents()\n",
    "\n",
    "['doll', 'firetruck', 'kitten']"
   ]
  },
  {
   "cell_type": "code",
   "execution_count": 3,
   "id": "8190c091",
   "metadata": {},
   "outputs": [],
   "source": [
    "class Marsupial:  # Creating a class Marsupial\n",
    "    def __init__(self):\n",
    "        self.s = []\n",
    "    \n",
    "    def put_in_pouch(self, letters): #using this function we store words\n",
    "        self.s.append(letters)\n",
    "        \n",
    "    def pouch_contents(self):  # using this function to display \n",
    "        print(self.s)"
   ]
  },
  {
   "cell_type": "code",
   "execution_count": 4,
   "id": "6a36c73f",
   "metadata": {},
   "outputs": [
    {
     "name": "stdout",
     "output_type": "stream",
     "text": [
      "['doll', 'firetruck', 'kitten']\n"
     ]
    }
   ],
   "source": [
    "m = Marsupial() # Creating an object\n",
    "m.put_in_pouch('doll')\n",
    "m.put_in_pouch('firetruck')\n",
    "m.put_in_pouch('kitten')\n",
    "m.pouch_contents()"
   ]
  },
  {
   "cell_type": "markdown",
   "id": "82cd81f4",
   "metadata": {},
   "source": [
    "Now write a class named Kangaroo as a subclass of Marsupial that inherits all the\n",
    "attributes of Marsupial and also:\n",
    "    \n",
    "a. extends the Marsupial __init__ constructor to take, as input, the\n",
    "coordinates x and y of the Kangaroo object,\n",
    "\n",
    "b. supports method jump that takes number values dx and dy as input and\n",
    "moves the kangaroo by dx units along the x-axis and by dy units along the yaxis, and\n",
    "\n",
    "c. overloads the __str__ operator so it behaves as shown below.\n"
   ]
  },
  {
   "cell_type": "code",
   "execution_count": 5,
   "id": "526e9d8a",
   "metadata": {},
   "outputs": [],
   "source": [
    "class Kangaroo(Marsupial): # Creating a subclass Kangaroo under Marsupial\n",
    "    def __init__(self,x,y):\n",
    "        Marsupial.__init__(self)\n",
    "        self.x = x\n",
    "        self.y = y\n",
    "        \n",
    "    def jump(self,x1,y1):  # Using this method increasing the coordinates by x1 and y1\n",
    "        self.x = self.x + x1\n",
    "        self.y = self.y + y1\n",
    "        \n",
    "    def __str__(self): # Using this to display\n",
    "        return \"I am a Kangaroo located at coordinates (%s, %s)\" % (self.x, self.y)"
   ]
  },
  {
   "cell_type": "code",
   "execution_count": 6,
   "id": "e7b97a34",
   "metadata": {},
   "outputs": [
    {
     "name": "stdout",
     "output_type": "stream",
     "text": [
      "I am a Kangaroo located at coordinates (0, 0)\n"
     ]
    }
   ],
   "source": [
    "k = Kangaroo(0,0) #creating an object\n",
    "print(k)"
   ]
  },
  {
   "cell_type": "code",
   "execution_count": 7,
   "id": "6540e3b5",
   "metadata": {},
   "outputs": [
    {
     "name": "stdout",
     "output_type": "stream",
     "text": [
      "['doll', 'firetruck', 'kitten']\n"
     ]
    }
   ],
   "source": [
    "k.put_in_pouch('doll') # Using this function to insert\n",
    "k.put_in_pouch('firetruck')\n",
    "k.put_in_pouch('kitten')\n",
    "k.pouch_contents() # Using this to display"
   ]
  },
  {
   "cell_type": "code",
   "execution_count": 8,
   "id": "e0e9adc7",
   "metadata": {},
   "outputs": [
    {
     "name": "stdout",
     "output_type": "stream",
     "text": [
      "I am a Kangaroo located at coordinates (3, 0)\n"
     ]
    }
   ],
   "source": [
    "k.jump(1,0) #Using these function we increase the coordinates\n",
    "k.jump(1,0)\n",
    "k.jump(1,0)\n",
    "print(k)"
   ]
  },
  {
   "cell_type": "markdown",
   "id": "c0032c9c",
   "metadata": {},
   "source": [
    "# Question 4"
   ]
  },
  {
   "cell_type": "markdown",
   "id": "b831356a",
   "metadata": {},
   "source": [
    "Write function collatz() that takes a positive integer x as input and prints the\n",
    "Collatz sequence starting at x. A Collatz sequence is obtained by repeatedly applying\n",
    "this rule to the previous number x in the sequence:\n",
    "x = {\n",
    "𝑥/2 𝑖𝑓 𝑥 𝑖𝑠 𝑒𝑣𝑒𝑛\n",
    "3𝑥 + 1 𝑖𝑓 𝑥 𝑖𝑠 𝑜𝑑𝑑\n",
    "Your function should stop when the sequence gets to number 1. Your\n",
    "implementation must be recursive, without any loops.\n",
    "\n",
    "collatz(1)\n",
    "\n",
    "1\n",
    "\n",
    "collatz(10)\n",
    "\n",
    "10\n",
    "\n",
    "5\n",
    "\n",
    "16\n",
    "\n",
    "8\n",
    "\n",
    "4\n",
    "\n",
    "2\n",
    "\n",
    "1\n"
   ]
  },
  {
   "cell_type": "code",
   "execution_count": 9,
   "id": "cab9c76c",
   "metadata": {
    "scrolled": true
   },
   "outputs": [
    {
     "name": "stdout",
     "output_type": "stream",
     "text": [
      "1\n",
      "10\n",
      "5\n",
      "16\n",
      "8\n",
      "4\n",
      "2\n",
      "1\n"
     ]
    }
   ],
   "source": [
    "def collatz(a):\n",
    "    if a==1:\n",
    "        print(int(a)) # Recursive function\n",
    "        return 1\n",
    "    elif a%2==0:\n",
    "        print(a)\n",
    "        return collatz(int(a/2))# It 𝑖𝑠 for 𝑒𝑣𝑒𝑛\n",
    "    else:\n",
    "        print(a)\n",
    "        return collatz(int(3*a+1))#It 𝑖𝑠 for 𝑜𝑑𝑑\n",
    "b =collatz(1)\n",
    "\n",
    "b=collatz(10)"
   ]
  },
  {
   "cell_type": "markdown",
   "id": "fdd15821",
   "metadata": {},
   "source": [
    "# Question 5"
   ]
  },
  {
   "cell_type": "markdown",
   "id": "fd1706a2",
   "metadata": {},
   "source": [
    "Write a recursive method binary() that takes a non-negative integer n and prints the binary representation of integer n."
   ]
  },
  {
   "cell_type": "markdown",
   "id": "1c3d4dfb",
   "metadata": {},
   "source": [
    "binary(0)\n",
    "\n",
    "0\n",
    "\n",
    "binary(1)\n",
    "\n",
    "1\n",
    "\n",
    "binary(3)\n",
    "\n",
    "11\n",
    "\n",
    "binary(9)\n",
    "\n",
    "1001"
   ]
  },
  {
   "cell_type": "code",
   "execution_count": 10,
   "id": "84824dfa",
   "metadata": {},
   "outputs": [],
   "source": [
    "def binary(value): \n",
    "    if value<0: \n",
    "        print(\"Enter the Correct value\")\n",
    "    elif value == 0: \n",
    "        return 0\n",
    "    else: \n",
    "        return (value % 2 + 10 * binary(int(value // 2)))"
   ]
  },
  {
   "cell_type": "code",
   "execution_count": 11,
   "id": "d1e2ebf7",
   "metadata": {},
   "outputs": [
    {
     "data": {
      "text/plain": [
       "0"
      ]
     },
     "execution_count": 11,
     "metadata": {},
     "output_type": "execute_result"
    }
   ],
   "source": [
    ">>> binary(0)"
   ]
  },
  {
   "cell_type": "code",
   "execution_count": 12,
   "id": "44dcb1a8",
   "metadata": {},
   "outputs": [
    {
     "data": {
      "text/plain": [
       "1"
      ]
     },
     "execution_count": 12,
     "metadata": {},
     "output_type": "execute_result"
    }
   ],
   "source": [
    ">>> binary(1)"
   ]
  },
  {
   "cell_type": "code",
   "execution_count": 13,
   "id": "180183d7",
   "metadata": {},
   "outputs": [
    {
     "data": {
      "text/plain": [
       "11"
      ]
     },
     "execution_count": 13,
     "metadata": {},
     "output_type": "execute_result"
    }
   ],
   "source": [
    ">>> binary(3)"
   ]
  },
  {
   "cell_type": "code",
   "execution_count": 14,
   "id": "94d5575a",
   "metadata": {},
   "outputs": [
    {
     "data": {
      "text/plain": [
       "1001"
      ]
     },
     "execution_count": 14,
     "metadata": {},
     "output_type": "execute_result"
    }
   ],
   "source": [
    ">>> binary(9)"
   ]
  },
  {
   "cell_type": "markdown",
   "id": "5c71a24b",
   "metadata": {},
   "source": [
    "# Question 6"
   ]
  },
  {
   "cell_type": "markdown",
   "id": "0a831546",
   "metadata": {},
   "source": [
    "Implement a class named HeadingParser that can be used to parse an HTML\n",
    "document, and retrieve and print all the headings in the document. You should\n",
    "implement your class as a subclass of HTMLParser, defined in Standard Library\n",
    "module html.parser. When fed a string containing HTML code, your class should\n",
    "print the headings, one per line and in the order in which they appear in the\n",
    "document. Each heading should be indented as follows: an h1 heading should have\n",
    "indentation 0, and h2 heading should have indentation 1, etc. Test your\n",
    "implementation using w3c.html."
   ]
  },
  {
   "cell_type": "code",
   "execution_count": 15,
   "id": "bcf836f9",
   "metadata": {},
   "outputs": [
    {
     "name": "stdout",
     "output_type": "stream",
     "text": [
      "\tW3C Mission\n",
      "\t\tPrinciples\n"
     ]
    }
   ],
   "source": [
    "# Referred from Week 6 Notes\n",
    "from html.parser import HTMLParser\n",
    "class parser(HTMLParser):        \n",
    "    Heading=False                 \n",
    "    def handle_starttag(self, tag, attrs):\n",
    "        if(len(tag)==2 and tag[0]=='h'):\n",
    "            self.Heading=True\n",
    "            n=int(tag[1])        \n",
    "            while n>0:\n",
    "                print(\"\\t\",end=\"\") \n",
    "                n=n-1\n",
    "    def handle_data(self,data):\n",
    "        if self.Heading:\n",
    "            print(data)     \n",
    "    def handle_endtag(self,tag):\n",
    "        if self.Heading:\n",
    "            self.Heading=False  \n",
    "        \n",
    "file=open(\"w3c.html\")\n",
    "content=file.read()\n",
    "file.close()  \n",
    "p = parser()\n",
    "p.feed(content)"
   ]
  },
  {
   "cell_type": "markdown",
   "id": "3e954c53",
   "metadata": {},
   "source": [
    "# Question 7"
   ]
  },
  {
   "cell_type": "markdown",
   "id": "e95755f8",
   "metadata": {},
   "source": [
    "Implement recursive function webdir() that takes as input: a URL (as a string) and non-negative integers depth and indent. Your function should visit every web page reachable from the starting URL web page in depth clicks or less, and print each web page's URL. As shown below, indentation, specified by indent, should be used to indicate the depth of a URL."
   ]
  },
  {
   "cell_type": "code",
   "execution_count": 16,
   "id": "f3d9288f",
   "metadata": {},
   "outputs": [
    {
     "name": "stdout",
     "output_type": "stream",
     "text": [
      " http://reed.cs.depaul.edu/lperkovic/one.html\n",
      "  http://reed.cs.depaul.edu/lperkovic/two.html\n",
      "  http://reed.cs.depaul.edu/lperkovic/three.html\n"
     ]
    }
   ],
   "source": [
    "# Referred from Week 6 Notes\n",
    "from urllib.request import urlopen\n",
    "def analyze(url):\n",
    "    'returns list of http links in url, in absolute format'\n",
    "    # obtain links in the web page\n",
    "    content = urlopen(url).read().decode()\n",
    "    collector = Collector(url)\n",
    "    collector.feed(content)\n",
    "    urls = collector.getLinks()          # get list of links\n",
    "\n",
    "    return urls\n",
    "\n",
    "\n",
    "\n",
    "from urllib.parse import urljoin\n",
    "from html.parser import HTMLParser\n",
    "class Collector(HTMLParser):\n",
    "    'collects hyperlink URLs into a list'\n",
    "    \n",
    "    def __init__(self, url):\n",
    "        'initializes parser, the url, and a list'\n",
    "        HTMLParser.__init__(self)\n",
    "        self.url = url\n",
    "        self.links = []\n",
    "        \n",
    "    def handle_starttag(self, tag, attrs):\n",
    "        'collects hyperlink URLs in their absolute format'\n",
    "        if tag == 'a':\n",
    "            for attr in attrs:\n",
    "                if attr[0] == 'href':\n",
    "                    # construct absolute URL\n",
    "                    absolute = urljoin(self.url, attr[1])\n",
    "                    if absolute[:4] == 'http': # collect HTTP URLs\n",
    "                        self.links.append(absolute)\n",
    "                        \n",
    "    def getLinks(self):\n",
    "        'returns hyperlinks URLs in their absolute format'\n",
    "        return self.links\n",
    "\n",
    "\n",
    "visited = set() # initialize \n",
    "def webdir(url,depth,indent):\n",
    "    # add url to set of visited pages\n",
    "    global visited\n",
    "    visited.add(url)\n",
    "\n",
    "    if depth == 0:\n",
    "        return\n",
    "    print(' '*indent, url)\n",
    "    indent +=1\n",
    "    depth -=1\n",
    "    \n",
    "    # analyze() returns a list of hyperlink URLs in web page url \n",
    "    links = analyze(url)\n",
    "    \n",
    "    # recursively continue webdir from every link in links\n",
    "    for link in links:\n",
    "        # follow link only if not visited\n",
    "        if link not in visited:\n",
    "            try:\n",
    "                webdir(link,depth,indent)\n",
    "            except:\n",
    "                pass\n",
    "\n",
    "\n",
    "webdir('http://reed.cs.depaul.edu/lperkovic/one.html', 2, 0)"
   ]
  },
  {
   "cell_type": "markdown",
   "id": "bf2c4ac9",
   "metadata": {},
   "source": [
    "# Question 8"
   ]
  },
  {
   "cell_type": "markdown",
   "id": "fd5a2552",
   "metadata": {},
   "source": [
    "Write SQL queries on the below database table\n",
    "\n",
    "City| Country| Season| Temperature(C)|Rainfall(mm)\n",
    "\n",
    "Mumbai| India| Winter| 24.8| 5.9\n",
    "\n",
    "Mumbai| India| Spring| 28.4 |16.2\n",
    "\n",
    "Mumbai| India |Summer |27.9 |1549.4\n",
    "\n",
    "Mumbai| India| Fall| 27.6| 346.0\n",
    "\n",
    "London|United Kingdom| Winter| 4.2 |207.7\n",
    "\n",
    "London| United| Kingdom |Spring| 8.3| 169.6\n",
    "\n",
    "London| United| Kingdom| Summer| 15.7| 157.0\n",
    "\n",
    "London| United| Kingdom |Fall |10.4| 218.5\n",
    "\n",
    "Cairo| Egypt| Winter| 13.6| 16.5\n",
    "\n",
    "Cairo| Egypt |Spring| 20.7| 6.5\n",
    "\n",
    "Cairo| Egypt| Summer| 27.7| 0.1\n",
    "\n",
    "Cairo| Egypt| Fall| 22.2| 4.5 "
   ]
  },
  {
   "cell_type": "code",
   "execution_count": null,
   "id": "aa027cf2",
   "metadata": {},
   "outputs": [],
   "source": [
    "# Referred from Week 6 Notes\n",
    "import sqlite3\n",
    "con = sqlite3.connect('season')\n",
    "cur = con.cursor()\n",
    "cur.execute(\"CREATE TABLE keywords (City text, Country text, Season text, Temperature dec, Rainfall dec)\")\n",
    "cur.execute(\"INSERT INTO Keywords VALUES ('Mumbai', 'India', 'Winter', 24.8, 5.9)\")\n",
    "cur.execute(\"INSERT INTO Keywords VALUES ('Mumbai', 'India', 'Spring', 28.4, 16.2)\")\n",
    "cur.execute(\"INSERT INTO Keywords VALUES ('Mumbai', 'India', 'Summer', 27.9, 1549.4)\")\n",
    "cur.execute(\"INSERT INTO Keywords VALUES ('Mumbai', 'India', 'Fall', 27.9, 346.0)\")\n",
    "cur.execute(\"INSERT INTO Keywords VALUES ('London', 'United Kingdom', 'Winter', 4.2, 207.7)\")\n",
    "cur.execute(\"INSERT INTO Keywords VALUES ('London', 'United Kingdom', 'Spring', 8.3, 169.6)\")\n",
    "cur.execute(\"INSERT INTO Keywords VALUES ('London', 'United Kingdom', 'Summer', 15.7, 157.0)\")\n",
    "cur.execute(\"INSERT INTO Keywords VALUES ('London', 'United Kingdom', 'Fall', 10.4, 218.5)\")\n",
    "cur.execute(\"INSERT INTO Keywords VALUES ('Cairo', 'Egypt', 'Winter', 24.8, 16.5)\")\n",
    "cur.execute(\"INSERT INTO Keywords VALUES ('Cairo', 'Egypt', 'Spring', 24.8, 6.5)\")\n",
    "cur.execute(\"INSERT INTO Keywords VALUES ('Cairo', 'Egypt', 'Summer', 24.8, 0.1)\")\n",
    "cur.execute(\"INSERT INTO Keywords VALUES ('Cairo', 'Egypt', 'Fall', 24.8, 4.5)\")\n",
    "con.commit()\n",
    "con.close()"
   ]
  },
  {
   "cell_type": "code",
   "execution_count": 18,
   "id": "b5963647",
   "metadata": {},
   "outputs": [
    {
     "name": "stdout",
     "output_type": "stream",
     "text": [
      "(24.8,)\n",
      "(28.4,)\n",
      "(27.9,)\n",
      "(27.9,)\n",
      "(4.2,)\n",
      "(8.3,)\n",
      "(15.7,)\n",
      "(10.4,)\n",
      "(24.8,)\n",
      "(24.8,)\n",
      "(24.8,)\n",
      "(24.8,)\n",
      "('Mumbai',)\n",
      "('London',)\n",
      "('Cairo',)\n",
      "('Mumbai', 'India', 'Winter', 24.8, 5.9)\n",
      "('Mumbai', 'India', 'Spring', 28.4, 16.2)\n",
      "('Mumbai', 'India', 'Summer', 27.9, 1549.4)\n",
      "('Mumbai', 'India', 'Fall', 27.9, 346)\n",
      "('Mumbai', 'India', 'Fall', 27.9, 346)\n",
      "('London', 'United Kingdom', 'Fall', 10.4, 218.5)\n",
      "('Cairo', 'Egypt', 'Fall', 24.8, 4.5)\n",
      "('Mumbai', 'India', 'Winter', 24.8, 5.9)\n",
      "('Mumbai', 'India', 'Spring', 28.4, 16.2)\n",
      "('Mumbai', 'India', 'Summer', 27.9, 1549.4)\n",
      "('Mumbai', 'India', 'Fall', 27.9, 346)\n",
      "('Mumbai', 'India', 'Fall')\n",
      "('London', 'United Kingdom', 'Winter')\n",
      "('London', 'United Kingdom', 'Fall')\n",
      "('Mumbai', 'India')\n",
      "('Cairo', 'Egypt')\n",
      "(0,)\n",
      "(3,)\n",
      "(3,)\n",
      "(3,)\n",
      "(3,)\n",
      "('Mumbai', 'India', 'Fall')\n",
      "('London', 'United Kingdom', 'Winter')\n",
      "('London', 'United Kingdom', 'Fall')\n",
      "('Mumbai', 'India')\n",
      "('Cairo', 'Egypt')\n",
      "[(27.6,)]\n",
      "(569.0, 'Fall')\n",
      "(192.29999999999998, 'Spring')\n",
      "(1706.5, 'Summer')\n",
      "(230.1, 'Winter')\n"
     ]
    }
   ],
   "source": [
    "import sqlite3\n",
    "con = sqlite3.connect('season')\n",
    "cur = con.cursor()\n",
    "cur.execute('SELECT Temperature FROM Keywords')\n",
    "for record in cur:\n",
    "    print(record)\n",
    "cur.execute('SELECT DISTINCT City FROM keywords')\n",
    "for record in cur:\n",
    "    print(record)\n",
    "cur.execute('SELECT * FROM keywords where Country=\"India\"')\n",
    "for record in cur:\n",
    "    print(record)\n",
    "cur.execute('SELECT * FROM keywords where Season=\"Fall\"')\n",
    "for record in cur:\n",
    "    print(record)\n",
    "cur.execute('SELECT * FROM keywords where Country=\"India\"')\n",
    "for record in cur:\n",
    "    print(record)\n",
    "cur.execute('SELECT City,Country,Season FROM keywords where (rainfall>200) AND (rainfall<400)')\n",
    "for record in cur:\n",
    "    print(record)\n",
    "cur.execute('SELECT City,Country FROM keywords where (Season =\"Fall\") AND (temperature>20) ORDER BY Temperature DESC')\n",
    "for record in cur:\n",
    "    print(record)\n",
    "cur.execute('SELECT COUNT(Rainfall) FROM keywords where Country=\"Cairo\"')\n",
    "for record in cur:\n",
    "    print(record)\n",
    "cur.execute('SELECT COUNT(Rainfall) FROM keywords GROUP BY Season')\n",
    "for record in cur:\n",
    "    print(record)\n",
    "cur.execute('SELECT City,Country,Season FROM keywords where (rainfall>200) AND (rainfall<400)')\n",
    "for record in cur:\n",
    "    print(record)\n",
    "cur.execute('SELECT City,Country FROM keywords where (Season =\"Fall\") AND (temperature>20) ORDER BY Temperature DESC')\n",
    "for record in cur:\n",
    "    print(record)\n",
    "cur.execute('SELECT SUM(Rainfall) FROM keywords where City=\"Cairo\"')\n",
    "Annual_rainfall=cur.fetchall()\n",
    "print(Annual_rainfall)\n",
    "cur.execute('SELECT SUM(Rainfall),Season FROM keywords GROUP BY Season')\n",
    "for record in cur:\n",
    "    print(record)"
   ]
  },
  {
   "cell_type": "markdown",
   "id": "ffc30ca3",
   "metadata": {},
   "source": [
    "# Question 9"
   ]
  },
  {
   "cell_type": "markdown",
   "id": "943fa65d",
   "metadata": {},
   "source": [
    "Suppose list words is defined as follows:\n",
    ">>> words = ['The', 'quick', 'brown', 'fox', 'jumps', 'over', 'the', 'lazy', 'dog']\n",
    "Write list comprehension expressions that use list words and generate the following lists:\n",
    "a) ['THE', 'QUICK', 'BROWN', 'FOX', 'JUMPS', 'OVER', 'THE', 'LAZY', 'DOG']\n",
    "b) ['the', 'quick', 'brown', 'fox', 'jumps', 'over', 'the', 'lazy', 'dog']\n",
    "c) [3, 5, 5, 3, 5, 4, 3, 4, 3] (the list of lengths of words in list words).\n",
    "d) [['THE', 'the', 3], ['QUICK', 'quick', 5], ['BROWN', 'brown', 5], ['FOX', 'fox', 3], ['JUMPS', 'jumps', 5], ['OVER', 'over', 4], ['THE', 'the', 3], ['LAZY', 'lazy', 4], ['DOG', 'dog', 3]] (the list containing a list for every word of list words, where each list contains the word in uppercase and lowercase and the length of the word.)\n",
    "e) ['The', 'quick', 'brown', 'fox', 'jumps', 'over', 'the', 'lazy', 'dog'] (the list of words in list words containing 4 or more characters.)"
   ]
  },
  {
   "cell_type": "code",
   "execution_count": 19,
   "id": "1459b47e",
   "metadata": {},
   "outputs": [
    {
     "name": "stdout",
     "output_type": "stream",
     "text": [
      "UPPER CASE:\n",
      "\n",
      " ['THE', 'QUICK', 'BROWN', 'FOX', 'JUMPS', 'OVER', 'THE', 'LAZY', 'DOG'] \n",
      "\n",
      "LOWER CASE:\n",
      "\n",
      " ['the', 'quick', 'brown', 'fox', 'jumps', 'over', 'the', 'lazy', 'dog'] \n",
      "\n",
      "LENGTH OF THE ELEMENTS:\n",
      "\n",
      " [3, 5, 5, 3, 5, 4, 3, 4, 3] \n",
      "\n",
      "LIST CONTAINING UPPER CASE,LOWER CASE AND LENGTH OF THE ELEMENTS:\n",
      "\n",
      " [['THE', 'the', 3], ['QUICK', 'quick', 5], ['BROWN', 'brown', 5], ['FOX', 'fox', 3], ['JUMPS', 'jumps', 5], ['OVER', 'over', 4], ['THE', 'the', 3], ['LAZY', 'lazy', 4], ['DOG', 'dog', 3]] \n",
      "\n",
      "LETTERS WITH LENGTH GREATER THAN FOUR:\n",
      "\n",
      " ['quick', 'brown', 'jumps', 'over', 'lazy'] \n",
      "\n"
     ]
    }
   ],
   "source": [
    "words = ['The', 'quick', 'brown', 'fox', 'jumps', 'over','the', 'lazy', 'dog']\n",
    "u=[]\n",
    "v=[]\n",
    "w=[]\n",
    "x=[]\n",
    "y=[]\n",
    "for i in words:\n",
    "    u.append(i.upper())                        \n",
    "print(\"UPPER CASE:\\n\\n\",u,\"\\n\")\n",
    "for i in words:\n",
    "    v.append(i.lower())                       \n",
    "print(\"LOWER CASE:\\n\\n\",v,\"\\n\")\n",
    "for i in words:\n",
    "    w.append(len(i))                         \n",
    "print(\"LENGTH OF THE ELEMENTS:\\n\\n\",w,\"\\n\")\n",
    "for i in words:\n",
    "    x.append([i.upper(),i.lower(),len(i)])\n",
    "print(\"LIST CONTAINING UPPER CASE,LOWER CASE AND LENGTH OF THE ELEMENTS:\\n\\n\",x,\"\\n\")\n",
    "for i in words:\n",
    "    if len(i)>=4:\n",
    "        y.append(i)\n",
    "print(\"LETTERS WITH LENGTH GREATER THAN FOUR:\\n\\n\",y,\"\\n\")"
   ]
  }
 ],
 "metadata": {
  "kernelspec": {
   "display_name": "Python 3",
   "language": "python",
   "name": "python3"
  },
  "language_info": {
   "codemirror_mode": {
    "name": "ipython",
    "version": 3
   },
   "file_extension": ".py",
   "mimetype": "text/x-python",
   "name": "python",
   "nbconvert_exporter": "python",
   "pygments_lexer": "ipython3",
   "version": "3.8.8"
  }
 },
 "nbformat": 4,
 "nbformat_minor": 5
}
